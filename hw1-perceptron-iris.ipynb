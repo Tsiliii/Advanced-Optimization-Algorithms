{
 "cells": [
  {
   "cell_type": "markdown",
   "metadata": {},
   "source": [
    "Collaborators : Themis Haris"
   ]
  },
  {
   "cell_type": "markdown",
   "metadata": {},
   "source": [
    "## Linear classification and the Perceptron algorithm\n",
    "\n",
    "In this problem, we will solve a linear classification problem using the Perceptron algorithm."
   ]
  },
  {
   "cell_type": "markdown",
   "metadata": {},
   "source": [
    "## The dataset\n",
    "We will work on the Iris dataset available [here](https://archive.ics.uci.edu/ml/machine-learning-databases/iris/iris.data). The dataset is a single comma-separated value (CSV) file. The first 4 fields of\n",
    "each line contain the measurements of a sample of Iris flower, the\n",
    "last field is the name of this sample's species of Iris. More information about\n",
    "the dataset can be found [here](https://archive.ics.uci.edu/ml/machine-learning-databases/iris/iris.names)."
   ]
  },
  {
   "cell_type": "markdown",
   "metadata": {},
   "source": [
    "## The classification task\n",
    "\n",
    "The goal of this problem is to construct a classifier to distinguish the [Iris setosa](https://en.wikipedia.org/wiki/Iris_setosa) from the other species of Iris. That is, we want to construct a function $f$ which takes as input the vector $x \\in\\mathbb{R}^4$ of\n",
    "measurements of a sample and return $f(x) \\in \\{-1,1\\}$ such that:\n",
    "$$\\begin{align*}\n",
    "    f(x) = \\begin{cases}\n",
    "        1& \\text{if the sample is an Iris setosa}\\\\\n",
    "        -1& \\text{otherwise}\n",
    "    \\end{cases}\n",
    "\\end{align*}$$\n",
    "Work your way through this notebook and answer all of the questions."
   ]
  },
  {
   "cell_type": "code",
   "execution_count": 34,
   "metadata": {},
   "outputs": [
    {
     "name": "stdout",
     "output_type": "stream",
     "text": [
      "[['5.1', '3.5', '1.4', '0.2', 'Iris-setosa'], ['4.9', '3.0', '1.4', '0.2', 'Iris-setosa'], ['4.7', '3.2', '1.3', '0.2', 'Iris-setosa']]\n",
      "{'Iris-virginica', 'Iris-versicolor', 'Iris-setosa'}\n"
     ]
    }
   ],
   "source": [
    "# read the dataset\n",
    "import csv\n",
    "\n",
    "with open('iris-data.csv', 'r') as iris_data:\n",
    "    iris_samples = list(csv.reader(iris_data, delimiter=','))\n",
    "\n",
    "# print the first 3 rows\n",
    "print(iris_samples[:3])\n",
    "a = set()\n",
    "for i in iris_samples[:-1]:\n",
    "    # print(i[4])\n",
    "    a.add(i[4])\n",
    "\n",
    "print(a)"
   ]
  },
  {
   "cell_type": "markdown",
   "metadata": {},
   "source": [
    "## Question 1\n",
    "Choose two of the four features and draw a scatter plot of the data set where the coordinates are the two features. Assign a color to each point based on the Iris species of the sample.\n",
    "\n",
    "You can use matplotlib for plotting, here is a [tutorial](https://matplotlib.org/users/pyplot_tutorial.html)"
   ]
  },
  {
   "cell_type": "code",
   "execution_count": 35,
   "metadata": {},
   "outputs": [
    {
     "data": {
      "image/png": "[encoded data removed]",
      "text/plain": [
       "<Figure size 640x480 with 1 Axes>"
      ]
     },
     "metadata": {},
     "output_type": "display_data"
    }
   ],
   "source": [
    "# example scatter plot\n",
    "import matplotlib.pyplot as plt\n",
    "\n",
    "plt.plot([1,2,3,4], [1,4,9,16], 'ro')\n",
    "plt.show()"
   ]
  },
  {
   "cell_type": "markdown",
   "metadata": {},
   "source": [
    "## Answer\n",
    "\n",
    "Features selected: 0 and 2.\n",
    "\n",
    "Color mapping: 'Iris-setosa' -> Red, 'Iris-versicolor' -> Blue, 'Iris-virginica' -> Green."
   ]
  },
  {
   "cell_type": "code",
   "execution_count": 36,
   "metadata": {},
   "outputs": [
    {
     "data": {
      "image/png": "[encoded data removed]",
      "text/plain": [
       "<Figure size 640x480 with 1 Axes>"
      ]
     },
     "metadata": {},
     "output_type": "display_data"
    }
   ],
   "source": [
    "classes = {'Iris-setosa' : 0, 'Iris-versicolor' : 1, 'Iris-virginica' : 2}\n",
    "\n",
    "points =[\n",
    "    [[],[]],\n",
    "    [[],[]],\n",
    "    [[],[]]\n",
    "]\n",
    "\n",
    "for x in iris_samples[:-1]:\n",
    "    current_class = classes[x[4]]\n",
    "    points[current_class][0].append(float(x[0]))\n",
    "    points[current_class][1].append(float(x[1]))\n",
    "\n",
    "plt.plot(points[0][0], points[0][1], 'ro')\n",
    "plt.plot(points[1][0], points[1][1], 'bo')\n",
    "plt.plot(points[2][0], points[2][1], 'go')\n",
    "plt.show()"
   ]
  },
  {
   "cell_type": "markdown",
   "metadata": {},
   "source": [
    "## Question 2\n",
    "Implement the perceptron algorithm that we saw in class. Run the algorithm on the Iris dataset to find a hyperplane separating the Iris setosa samples from the other samples. Print the weights defining the hyperplane."
   ]
  },
  {
   "cell_type": "markdown",
   "metadata": {},
   "source": [
    "## Implementation"
   ]
  },
  {
   "cell_type": "code",
   "execution_count": 30,
   "metadata": {},
   "outputs": [],
   "source": [
    "import math \n",
    "\n",
    "def norm(x):\n",
    "    sum = 0\n",
    "    for i in x:\n",
    "        sum += i ** 2\n",
    "    \n",
    "    return math.sqrt(sum)\n",
    "    \n",
    "def inner_product(x,y):\n",
    "    sum = 0\n",
    "    for i in range(len(x)):\n",
    "        sum += x[i]*y[i]\n",
    "    return sum\n",
    "\n",
    "\n",
    "def sign(x):\n",
    "    if x > 0:\n",
    "        return 1\n",
    "    elif x < 0:\n",
    "        return -1\n",
    "    else:\n",
    "        return 0\n",
    "\n",
    "\n",
    "def perceptron(x,y):\n",
    "    #initialize on 0 \n",
    "    w = [0,0,0,0]\n",
    "\n",
    "    #counter of correctly classified samples (in a row)\n",
    "    continuous_correct = 0\n",
    "\n",
    "    #index\n",
    "    i = 0\n",
    "\n",
    "    \n",
    "    while continuous_correct < len(x) + 2:\n",
    "\n",
    "        # classification rule\n",
    "        if sign(inner_product(w,x[i])) != y[i]:\n",
    "\n",
    "            # w update (per coordinate)\n",
    "            for j in range(4):\n",
    "                w[j] += y[i] / norm(x[i]) * x[i][j]\n",
    "            continuous_correct = 0\n",
    "        else:\n",
    "            continuous_correct += 1\n",
    "\n",
    "        i += 1\n",
    "        if i == len(x):\n",
    "            i = 0\n",
    "\n",
    "    return w"
   ]
  },
  {
   "cell_type": "code",
   "execution_count": 39,
   "metadata": {},
   "outputs": [
    {
     "data": {
      "text/plain": [
       "[0.037, 0.201, -0.294, -0.122]"
      ]
     },
     "execution_count": 39,
     "metadata": {},
     "output_type": "execute_result"
    }
   ],
   "source": [
    "x = []\n",
    "y = []\n",
    "for i in range(len(iris_samples) - 1):\n",
    "    x.append([float(iris_samples[i][0]),float(iris_samples[i][1]),float(iris_samples[i][2]),float(iris_samples[i][3])])\n",
    "    if iris_samples[i][4] == 'Iris-setosa':\n",
    "        y.append(float(1))\n",
    "    else:\n",
    "        y.append(float(-1))\n",
    "\n",
    "w_star = perceptron(x,y)\n",
    "[round(i,3) for i in w_star]"
   ]
  },
  {
   "cell_type": "code",
   "execution_count": null,
   "metadata": {},
   "outputs": [],
   "source": []
  }
 ],
 "metadata": {
  "kernelspec": {
   "display_name": "Python 3 (ipykernel)",
   "language": "python",
   "name": "python3"
  },
  "language_info": {
   "codemirror_mode": {
    "name": "ipython",
    "version": 3
   },
   "file_extension": ".py",
   "mimetype": "text/x-python",
   "name": "python",
   "nbconvert_exporter": "python",
   "pygments_lexer": "ipython3",
   "version": "3.11.5"
  }
 },
 "nbformat": 4,
 "nbformat_minor": 4
}
